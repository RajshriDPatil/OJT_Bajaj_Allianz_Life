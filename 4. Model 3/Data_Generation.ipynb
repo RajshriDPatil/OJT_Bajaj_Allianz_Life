{
 "cells": [
  {
   "cell_type": "code",
   "execution_count": 1,
   "id": "fd1426e6-cbcd-414d-bf78-a9eb6ea86a2e",
   "metadata": {},
   "outputs": [
    {
     "name": "stdout",
     "output_type": "stream",
     "text": [
      "   Premium_Term  Gender Income Occupation Marital_Status    Location Children  \\\n",
      "0            20    Male   3-6L   Engineer         Single  Semi-urban       No   \n",
      "1            10  Female  6-10L    Student         Single       Rural      Yes   \n",
      "2            25  Female   >15L    Retired        Married       Rural      Yes   \n",
      "3            12    Male  6-10L    Teacher        Married  Semi-urban      Yes   \n",
      "4            20  Female   >15L     Doctor         Single       Rural      Yes   \n",
      "\n",
      "   Benefit_Term  \n",
      "0            12  \n",
      "1            30  \n",
      "2            40  \n",
      "3            20  \n",
      "4            40  \n"
     ]
    }
   ],
   "source": [
    "import pandas as pd\n",
    "import numpy as np\n",
    "\n",
    "# 1. Set a seed to make results reproducible\n",
    "np.random.seed(42)\n",
    "\n",
    "# 2. Define possible values for each column\n",
    "premium_terms = [5, 7, 8, 10, 12, 15, 20, 25, 30, 40]  # in years\n",
    "genders = ['Male', 'Female']\n",
    "incomes = ['<3L', '3-6L', '6-10L', '10-15L', '>15L']\n",
    "occupations = ['Engineer', 'Doctor', 'Teacher', 'Business', 'Farmer', 'Student', 'Retired']\n",
    "marital_statuses = ['Single', 'Married']\n",
    "locations = ['Urban', 'Semi-urban', 'Rural']\n",
    "children_options = ['Yes', 'No']\n",
    "benefit_terms = [10, 12, 15, 20, 25, 30, 40]  # in years\n",
    "\n",
    "# 3. Define total number of rows\n",
    "num_rows = 151200  # to match your uploaded dataset\n",
    "\n",
    "# 4. Generate random data using numpy\n",
    "data = {\n",
    "    'Premium_Term': np.random.choice(premium_terms, size=num_rows),\n",
    "    'Gender': np.random.choice(genders, size=num_rows),\n",
    "    'Income': np.random.choice(incomes, size=num_rows),\n",
    "    'Occupation': np.random.choice(occupations, size=num_rows),\n",
    "    'Marital_Status': np.random.choice(marital_statuses, size=num_rows),\n",
    "    'Location': np.random.choice(locations, size=num_rows),\n",
    "    'Children': np.random.choice(children_options, size=num_rows),\n",
    "    'Benefit_Term': np.random.choice(benefit_terms, size=num_rows)\n",
    "}\n",
    "\n",
    "# 5. Convert to DataFrame\n",
    "df = pd.DataFrame(data)\n",
    "\n",
    "# 6. Save to CSV\n",
    "df.to_csv(\"Insurance_Dataset.csv\", index=False)\n",
    "\n",
    "# Optional: Show a preview\n",
    "print(df.head())\n"
   ]
  }
 ],
 "metadata": {
  "kernelspec": {
   "display_name": "Python 3 (ipykernel)",
   "language": "python",
   "name": "python3"
  },
  "language_info": {
   "codemirror_mode": {
    "name": "ipython",
    "version": 3
   },
   "file_extension": ".py",
   "mimetype": "text/x-python",
   "name": "python",
   "nbconvert_exporter": "python",
   "pygments_lexer": "ipython3",
   "version": "3.13.1"
  }
 },
 "nbformat": 4,
 "nbformat_minor": 5
}
