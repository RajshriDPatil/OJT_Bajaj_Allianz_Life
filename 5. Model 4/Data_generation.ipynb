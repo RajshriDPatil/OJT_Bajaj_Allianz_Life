{
 "cells": [
  {
   "cell_type": "code",
   "execution_count": 1,
   "id": "8003c6cb-b6a3-4f65-bac8-762f04c6247a",
   "metadata": {},
   "outputs": [
    {
     "name": "stdout",
     "output_type": "stream",
     "text": [
      "✅ Data saved as 'insurance_dataset.csv'\n"
     ]
    }
   ],
   "source": [
    "import pandas as pd\n",
    "import numpy as np\n",
    "\n",
    "# Set seed for reproducibility\n",
    "np.random.seed(42)\n",
    "\n",
    "# Number of rows\n",
    "n = 1500\n",
    "\n",
    "# Generate columns\n",
    "ages = np.random.randint(18, 61, size=n)\n",
    "genders = np.random.choice(['male', 'female'], size=n)\n",
    "declared_income = np.random.choice(\n",
    "    [200000, 400000, 700000, 1200000],\n",
    "    size=n,\n",
    "    p=[0.25, 0.35, 0.25, 0.15]\n",
    ")\n",
    "premium_term = np.random.choice([5, 10, 15, 20, 25, 30], size=n)\n",
    "policy_term = premium_term + np.random.choice([5, 10, 15], size=n)\n",
    "premium_amount = (declared_income / 1000) + np.random.normal(2000, 500, size=n)\n",
    "booking_frequency = np.random.choice(\n",
    "    ['Monthly', 'Quarterly', 'Half_yearly', 'Yearly'],\n",
    "    size=n\n",
    ")\n",
    "location = np.random.choice(['rural', 'semi-urban', 'urban'], size=n)\n",
    "children = np.random.choice(['yes', 'no'], size=n)\n",
    "policy_type = np.random.choice(['Term', 'Endowment', 'ULIP'], size=n)\n",
    "current_status = np.random.choice(['married', 'unmarried', 'widow'], size=n)\n",
    "\n",
    "# Create DataFrame\n",
    "df = pd.DataFrame({\n",
    "    'age': ages,\n",
    "    'gender': genders,\n",
    "    'declared_income': declared_income,\n",
    "    'premium_term': premium_term,\n",
    "    'policy_term': policy_term,\n",
    "    'premium_amount': np.round(premium_amount, 2),\n",
    "    'booking_frequency': booking_frequency,\n",
    "    'location': location,\n",
    "    'children': children,\n",
    "    'policy_type': policy_type,\n",
    "    'current_status': current_status\n",
    "})\n",
    "\n",
    "# Save to CSV\n",
    "df.to_csv(\"insurance_dataset.csv\", index=False)\n",
    "print(\"✅ Data saved as 'insurance_dataset.csv'\")"
   ]
  }
 ],
 "metadata": {
  "kernelspec": {
   "display_name": "Python 3 (ipykernel)",
   "language": "python",
   "name": "python3"
  },
  "language_info": {
   "codemirror_mode": {
    "name": "ipython",
    "version": 3
   },
   "file_extension": ".py",
   "mimetype": "text/x-python",
   "name": "python",
   "nbconvert_exporter": "python",
   "pygments_lexer": "ipython3",
   "version": "3.13.1"
  }
 },
 "nbformat": 4,
 "nbformat_minor": 5
}
